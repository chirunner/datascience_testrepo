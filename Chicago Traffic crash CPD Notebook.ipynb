{
    "cells": [
        {
            "cell_type": "markdown",
            "metadata": {},
            "source": "# Description\nThis notebook analyzes Chicago Crash data about each traffic crash on city streets within the City of Chicago limits and under the jurisdiction of Chicago Police Department (CPD). Data are shown as is from the electronic crash reporting system (E-Crash) at CPD"
        },
        {
            "cell_type": "code",
            "execution_count": 4,
            "metadata": {},
            "outputs": [
                {
                    "data": {
                        "text/html": "<div>\n<style scoped>\n    .dataframe tbody tr th:only-of-type {\n        vertical-align: middle;\n    }\n\n    .dataframe tbody tr th {\n        vertical-align: top;\n    }\n\n    .dataframe thead th {\n        text-align: right;\n    }\n</style>\n<table border=\"1\" class=\"dataframe\">\n  <thead>\n    <tr style=\"text-align: right;\">\n      <th></th>\n      <th>CRASH_RECORD_ID</th>\n      <th>RD_NO</th>\n      <th>CRASH_DATE_EST_I</th>\n      <th>CRASH_DATE</th>\n      <th>POSTED_SPEED_LIMIT</th>\n      <th>TRAFFIC_CONTROL_DEVICE</th>\n      <th>DEVICE_CONDITION</th>\n      <th>WEATHER_CONDITION</th>\n      <th>LIGHTING_CONDITION</th>\n      <th>FIRST_CRASH_TYPE</th>\n      <th>...</th>\n      <th>INJURIES_NON_INCAPACITATING</th>\n      <th>INJURIES_REPORTED_NOT_EVIDENT</th>\n      <th>INJURIES_NO_INDICATION</th>\n      <th>INJURIES_UNKNOWN</th>\n      <th>CRASH_HOUR</th>\n      <th>CRASH_DAY_OF_WEEK</th>\n      <th>CRASH_MONTH</th>\n      <th>LATITUDE</th>\n      <th>LONGITUDE</th>\n      <th>LOCATION</th>\n    </tr>\n  </thead>\n  <tbody>\n    <tr>\n      <th>0</th>\n      <td>073682ef84ff827659552d4254ad1b98bfec24935cc9cc...</td>\n      <td>JB460108</td>\n      <td>NaN</td>\n      <td>10/02/2018 06:30:00 PM</td>\n      <td>10</td>\n      <td>NO CONTROLS</td>\n      <td>NO CONTROLS</td>\n      <td>CLEAR</td>\n      <td>DARKNESS</td>\n      <td>PARKED MOTOR VEHICLE</td>\n      <td>...</td>\n      <td>0.0</td>\n      <td>0.0</td>\n      <td>1.0</td>\n      <td>0.0</td>\n      <td>18</td>\n      <td>3</td>\n      <td>10</td>\n      <td>NaN</td>\n      <td>NaN</td>\n      <td>NaN</td>\n    </tr>\n    <tr>\n      <th>1</th>\n      <td>1560fb8a1e32b528fef8bfd677d2b3fc5ab37278b157fa...</td>\n      <td>JC325941</td>\n      <td>NaN</td>\n      <td>06/27/2019 04:00:00 PM</td>\n      <td>45</td>\n      <td>NO CONTROLS</td>\n      <td>NO CONTROLS</td>\n      <td>CLEAR</td>\n      <td>DAYLIGHT</td>\n      <td>SIDESWIPE SAME DIRECTION</td>\n      <td>...</td>\n      <td>0.0</td>\n      <td>0.0</td>\n      <td>2.0</td>\n      <td>0.0</td>\n      <td>16</td>\n      <td>5</td>\n      <td>6</td>\n      <td>NaN</td>\n      <td>NaN</td>\n      <td>NaN</td>\n    </tr>\n    <tr>\n      <th>2</th>\n      <td>009e9e67203442370272e1a13d6ee51a4155dac65e583d...</td>\n      <td>JA329216</td>\n      <td>NaN</td>\n      <td>06/30/2017 04:00:00 PM</td>\n      <td>35</td>\n      <td>STOP SIGN/FLASHER</td>\n      <td>FUNCTIONING PROPERLY</td>\n      <td>CLEAR</td>\n      <td>DAYLIGHT</td>\n      <td>TURNING</td>\n      <td>...</td>\n      <td>0.0</td>\n      <td>0.0</td>\n      <td>3.0</td>\n      <td>0.0</td>\n      <td>16</td>\n      <td>6</td>\n      <td>6</td>\n      <td>41.741804</td>\n      <td>-87.740954</td>\n      <td>POINT (-87.740953581987 41.741803598989)</td>\n    </tr>\n    <tr>\n      <th>3</th>\n      <td>00e47f189660cd8ba1e85fc63061bf1d8465184393f134...</td>\n      <td>JC194776</td>\n      <td>NaN</td>\n      <td>03/21/2019 10:50:00 PM</td>\n      <td>30</td>\n      <td>TRAFFIC SIGNAL</td>\n      <td>FUNCTIONING PROPERLY</td>\n      <td>CLEAR</td>\n      <td>DARKNESS, LIGHTED ROAD</td>\n      <td>TURNING</td>\n      <td>...</td>\n      <td>0.0</td>\n      <td>0.0</td>\n      <td>2.0</td>\n      <td>0.0</td>\n      <td>22</td>\n      <td>5</td>\n      <td>3</td>\n      <td>41.741804</td>\n      <td>-87.740954</td>\n      <td>POINT (-87.740953581987 41.741803598989)</td>\n    </tr>\n    <tr>\n      <th>4</th>\n      <td>0126747fc9ffc0edc9a38abb83d80034f897db0f739eef...</td>\n      <td>JB200478</td>\n      <td>NaN</td>\n      <td>03/26/2018 02:23:00 PM</td>\n      <td>35</td>\n      <td>NO CONTROLS</td>\n      <td>NO CONTROLS</td>\n      <td>CLEAR</td>\n      <td>DAYLIGHT</td>\n      <td>PARKED MOTOR VEHICLE</td>\n      <td>...</td>\n      <td>0.0</td>\n      <td>0.0</td>\n      <td>2.0</td>\n      <td>0.0</td>\n      <td>14</td>\n      <td>2</td>\n      <td>3</td>\n      <td>41.953647</td>\n      <td>-87.732082</td>\n      <td>POINT (-87.732081736006 41.953646899951)</td>\n    </tr>\n  </tbody>\n</table>\n<p>5 rows \u00d7 49 columns</p>\n</div>",
                        "text/plain": "                                     CRASH_RECORD_ID     RD_NO  \\\n0  073682ef84ff827659552d4254ad1b98bfec24935cc9cc...  JB460108   \n1  1560fb8a1e32b528fef8bfd677d2b3fc5ab37278b157fa...  JC325941   \n2  009e9e67203442370272e1a13d6ee51a4155dac65e583d...  JA329216   \n3  00e47f189660cd8ba1e85fc63061bf1d8465184393f134...  JC194776   \n4  0126747fc9ffc0edc9a38abb83d80034f897db0f739eef...  JB200478   \n\n  CRASH_DATE_EST_I              CRASH_DATE  POSTED_SPEED_LIMIT  \\\n0              NaN  10/02/2018 06:30:00 PM                  10   \n1              NaN  06/27/2019 04:00:00 PM                  45   \n2              NaN  06/30/2017 04:00:00 PM                  35   \n3              NaN  03/21/2019 10:50:00 PM                  30   \n4              NaN  03/26/2018 02:23:00 PM                  35   \n\n  TRAFFIC_CONTROL_DEVICE      DEVICE_CONDITION WEATHER_CONDITION  \\\n0            NO CONTROLS           NO CONTROLS             CLEAR   \n1            NO CONTROLS           NO CONTROLS             CLEAR   \n2      STOP SIGN/FLASHER  FUNCTIONING PROPERLY             CLEAR   \n3         TRAFFIC SIGNAL  FUNCTIONING PROPERLY             CLEAR   \n4            NO CONTROLS           NO CONTROLS             CLEAR   \n\n       LIGHTING_CONDITION          FIRST_CRASH_TYPE  ...  \\\n0                DARKNESS      PARKED MOTOR VEHICLE  ...   \n1                DAYLIGHT  SIDESWIPE SAME DIRECTION  ...   \n2                DAYLIGHT                   TURNING  ...   \n3  DARKNESS, LIGHTED ROAD                   TURNING  ...   \n4                DAYLIGHT      PARKED MOTOR VEHICLE  ...   \n\n  INJURIES_NON_INCAPACITATING  INJURIES_REPORTED_NOT_EVIDENT  \\\n0                         0.0                            0.0   \n1                         0.0                            0.0   \n2                         0.0                            0.0   \n3                         0.0                            0.0   \n4                         0.0                            0.0   \n\n  INJURIES_NO_INDICATION INJURIES_UNKNOWN CRASH_HOUR CRASH_DAY_OF_WEEK  \\\n0                    1.0              0.0         18                 3   \n1                    2.0              0.0         16                 5   \n2                    3.0              0.0         16                 6   \n3                    2.0              0.0         22                 5   \n4                    2.0              0.0         14                 2   \n\n  CRASH_MONTH   LATITUDE  LONGITUDE                                  LOCATION  \n0          10        NaN        NaN                                       NaN  \n1           6        NaN        NaN                                       NaN  \n2           6  41.741804 -87.740954  POINT (-87.740953581987 41.741803598989)  \n3           3  41.741804 -87.740954  POINT (-87.740953581987 41.741803598989)  \n4           3  41.953647 -87.732082  POINT (-87.732081736006 41.953646899951)  \n\n[5 rows x 49 columns]"
                    },
                    "execution_count": 4,
                    "metadata": {},
                    "output_type": "execute_result"
                }
            ],
            "source": "# The code was removed by Watson Studio for sharing."
        },
        {
            "cell_type": "code",
            "execution_count": null,
            "metadata": {},
            "outputs": [],
            "source": ""
        }
    ],
    "metadata": {
        "kernelspec": {
            "display_name": "Python 3.6",
            "language": "python",
            "name": "python3"
        },
        "language_info": {
            "codemirror_mode": {
                "name": "ipython",
                "version": 3
            },
            "file_extension": ".py",
            "mimetype": "text/x-python",
            "name": "python",
            "nbconvert_exporter": "python",
            "pygments_lexer": "ipython3",
            "version": "3.6.9"
        }
    },
    "nbformat": 4,
    "nbformat_minor": 1
}